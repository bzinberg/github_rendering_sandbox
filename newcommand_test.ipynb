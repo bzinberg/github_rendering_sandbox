{
  "nbformat": 4,
  "nbformat_minor": 0,
  "metadata": {
    "colab": {
      "name": "Test of \\newcommand in GitHub's MathJax",
      "version": "0.3.2",
      "provenance": [],
      "collapsed_sections": []
    }
  },
  "cells": [
    {
      "metadata": {
        "id": "7cFxsmSKs0jb",
        "colab_type": "text"
      },
      "cell_type": "markdown",
      "source": [
        "# Test `\\newcommand`"
      ]
    },
    {
      "metadata": {
        "id": "CpZXa4E4qUhU",
        "colab_type": "text"
      },
      "cell_type": "markdown",
      "source": [
        "$$\n",
        "\\newcommand{\\SayHello}{\\text{Hi there :)}}\n",
        "$$\n",
        "\n",
        "You might not see it, but above I have defined the macro `\\SayHello`.  First let's try using it in this cell:\n",
        "\n",
        "$$\n",
        "\\SayHello\n",
        "$$"
      ]
    },
    {
      "metadata": {
        "id": "9KITVw2QqqIs",
        "colab_type": "text"
      },
      "cell_type": "markdown",
      "source": [
        "Next let's try using it in a new cell (definition occurs in previous cell):\n",
        "\n",
        "$$\n",
        "\\SayHello\n",
        "$$"
      ]
    },
    {
      "metadata": {
        "id": "uGJ7sD7pqxUI",
        "colab_type": "text"
      },
      "cell_type": "markdown",
      "source": [
        "It renders as expected both times in Colab -- let's see how it goes it GitHub preview."
      ]
    },
    {
      "metadata": {
        "id": "GFzY-nass2j_",
        "colab_type": "text"
      },
      "cell_type": "markdown",
      "source": [
        "# Test sans-serif, bold, and `operatorname` combinations\n",
        "\n",
        "${\\operatorname{\\mathsf{Mean}}_T}$\n",
        "\n",
        "${\\operatorname{\\mathbf{Mean}}_T}$"
      ]
    }
  ]
}

